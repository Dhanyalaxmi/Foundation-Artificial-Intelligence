{
  "nbformat": 4,
  "nbformat_minor": 0,
  "metadata": {
    "colab": {
      "name": "AI_Assignment_5.ipynb",
      "provenance": [],
      "collapsed_sections": []
    },
    "kernelspec": {
      "name": "python3",
      "display_name": "Python 3"
    }
  },
  "cells": [
    {
      "cell_type": "markdown",
      "metadata": {
        "id": "QTM1lryIDaAS"
      },
      "source": [
        "Write a program that uses using Backtracking Search to solves the problem of placing k knights on an n×n chessboard such that no two knights are attacking each other. The program should either return a valid placement, or FALSE if no such placement is possible (because k is too large in relation to n)."
      ]
    },
    {
      "cell_type": "code",
      "metadata": {
        "id": "5T6K8VZ1vJg7"
      },
      "source": [
        "from tqdm import tqdm\n",
        "from itertools import combinations, product\n",
        "\n",
        "def max_knights(knight_count, grid_aide_size):\n",
        "    \"\"\"\n",
        "    :param knight_count:\n",
        "    :param grid_aide_size:\n",
        "    :return:\n",
        "        False : if knight_count knights cannot be placed in a grid_aide_size x grid_aide_size grid\n",
        "        Placements : if knight_count knights can be placed in grid_aide_size grid\n",
        "    \"\"\"\n",
        "    grid_cells = [cell for cell in product(range(1, grid_aide_size + 1), repeat=2)]\n",
        "    for combination in tqdm(combinations(grid_cells, knight_count)):\n",
        "        if is_non_attacking_positions(combination, grid_cells):\n",
        "            return combination\n",
        "    return False\n",
        "\n",
        "\n",
        "def valid_knight_moves(current_position, grid_cells):\n",
        "    \"\"\"\n",
        "    :param grid_cells:\n",
        "    :param current_position:\n",
        "    :return: List containing valid positions to which a knight can move from current_position\n",
        "    \"\"\"\n",
        "    row, col = current_position\n",
        "    potential_moves = [(row + 1, col + 2), (row + 1, col - 2), (row - 1, col + 2), (row - 1, col - 2),\n",
        "                       (row + 2, col + 1), (row + 2, col - 1), (row - 2, col + 1), (row - 2, col - 1)]\n",
        "    return [position for position in potential_moves if position in grid_cells]\n",
        "\n",
        "\n",
        "def is_non_attacking_positions(knight_positions, grid_cells):\n",
        "    \"\"\"\n",
        "    :param grid_cells:\n",
        "    :param knight_positions: list of positions of knights\n",
        "    :return:\n",
        "        True: If the positions are non attacking\n",
        "        False: If any of the knight is attacking another knight\n",
        "    \"\"\"\n",
        "    attack_positions_lists = [valid_knight_moves(knight_position, grid_cells) for knight_position in knight_positions]\n",
        "    attack_positions = set([item for sub_list in attack_positions_lists for item in sub_list])\n",
        "    return not any([position in attack_positions for position in knight_positions])\n",
        "\n",
        "\n",
        "class TrieNode:\n",
        "    def __init__(self):\n",
        "        self.nodes = dict()\n",
        "        self.is_leaf = False\n",
        "\n",
        "    def insert_many(self, positions_list):\n",
        "        for positions in tqdm(positions_list):\n",
        "            self.insert(positions)\n",
        "\n",
        "    def insert(self, positions):\n",
        "        curr = self\n",
        "        for position in positions:\n",
        "            if position not in curr.nodes:\n",
        "                curr.nodes[position] = TrieNode()\n",
        "            curr = curr.nodes[position]\n",
        "        curr.is_leaf = True\n",
        "\n",
        "\n",
        "def print_positions(node: TrieNode, positions):\n",
        "\n",
        "    if node.is_leaf:\n",
        "        print(positions)\n",
        "\n",
        "    for key, value in node.nodes.items():\n",
        "        print_positions(value, positions + [key])\n",
        "\n",
        "\n",
        "def bts(node, positions, grid_cells):\n",
        "    if node.is_leaf:\n",
        "        return positions\n",
        "\n",
        "    for key, value in node.nodes.items():\n",
        "        if is_non_attacking_positions(positions + [key], grid_cells):\n",
        "            result = bts(value, positions + [key], grid_cells)\n",
        "            if result:\n",
        "                return result\n",
        "    return False\n",
        "\n",
        "\n",
        "def max_knights_bts(grid_aide_size=4, knight_count=8):\n",
        "    grid_cells = [cell for cell in product(range(1, grid_aide_size + 1), repeat=2)]\n",
        "    root = TrieNode()\n",
        "    root.insert_many(combinations(grid_cells, knight_count))\n",
        "    return bts(root, [], grid_cells)\n",
        "\n",
        "\n",
        "\n",
        " "
      ],
      "execution_count": 1,
      "outputs": []
    },
    {
      "cell_type": "code",
      "metadata": {
        "colab": {
          "base_uri": "https://localhost:8080/"
        },
        "id": "fhjkKoU-vhws",
        "outputId": "eb138a84-9d4b-411f-bddc-939f8e91c326"
      },
      "source": [
        "if __name__ == \"__main__\":\n",
        " print(max_knights_bts(grid_aide_size=4, knight_count=8)) "
      ],
      "execution_count": 2,
      "outputs": [
        {
          "output_type": "stream",
          "text": [
            "12870it [00:00, 115547.54it/s]"
          ],
          "name": "stderr"
        },
        {
          "output_type": "stream",
          "text": [
            "[(1, 1), (1, 2), (1, 3), (1, 4), (4, 1), (4, 2), (4, 3), (4, 4)]\n"
          ],
          "name": "stdout"
        },
        {
          "output_type": "stream",
          "text": [
            "\n"
          ],
          "name": "stderr"
        }
      ]
    },
    {
      "cell_type": "code",
      "metadata": {
        "colab": {
          "base_uri": "https://localhost:8080/"
        },
        "id": "DjImlj72MbKD",
        "outputId": "201377e8-e145-4d09-f7e3-fca99a17134b"
      },
      "source": [
        " print(max_knights_bts(grid_aide_size=4, knight_count=10))"
      ],
      "execution_count": 3,
      "outputs": [
        {
          "output_type": "stream",
          "text": [
            "8008it [00:00, 97900.47it/s]"
          ],
          "name": "stderr"
        },
        {
          "output_type": "stream",
          "text": [
            "False\n"
          ],
          "name": "stdout"
        },
        {
          "output_type": "stream",
          "text": [
            "\n"
          ],
          "name": "stderr"
        }
      ]
    },
    {
      "cell_type": "code",
      "metadata": {
        "colab": {
          "base_uri": "https://localhost:8080/"
        },
        "id": "9zNxynYDPGz7",
        "outputId": "ada75834-61dc-459d-a8a5-c79cd8e0fb5b"
      },
      "source": [
        "print(max_knights_bts(grid_aide_size=6, knight_count=5))"
      ],
      "execution_count": 4,
      "outputs": [
        {
          "output_type": "stream",
          "text": [
            "376992it [00:01, 235352.64it/s]"
          ],
          "name": "stderr"
        },
        {
          "output_type": "stream",
          "text": [
            "[(1, 1), (1, 2), (1, 3), (1, 4), (1, 5)]\n"
          ],
          "name": "stdout"
        },
        {
          "output_type": "stream",
          "text": [
            "\n"
          ],
          "name": "stderr"
        }
      ]
    },
    {
      "cell_type": "code",
      "metadata": {
        "colab": {
          "base_uri": "https://localhost:8080/"
        },
        "id": "T5h1TKgyPQsA",
        "outputId": "60494cea-6a89-4d5c-8509-0aeb4b8a6add"
      },
      "source": [
        "print(max_knights_bts(grid_aide_size=6, knight_count=6))"
      ],
      "execution_count": 5,
      "outputs": [
        {
          "output_type": "stream",
          "text": [
            "1947792it [00:08, 231340.31it/s]\n"
          ],
          "name": "stderr"
        },
        {
          "output_type": "stream",
          "text": [
            "[(1, 1), (1, 2), (1, 3), (1, 4), (1, 5), (1, 6)]\n"
          ],
          "name": "stdout"
        }
      ]
    },
    {
      "cell_type": "code",
      "metadata": {
        "colab": {
          "base_uri": "https://localhost:8080/"
        },
        "id": "mmJ2YMdMRtu0",
        "outputId": "94cf5d12-2206-4e79-853c-05e4d45283cb"
      },
      "source": [
        "print(max_knights_bts(grid_aide_size=5, knight_count=100))"
      ],
      "execution_count": 6,
      "outputs": [
        {
          "output_type": "stream",
          "text": [
            "0it [00:00, ?it/s]"
          ],
          "name": "stderr"
        },
        {
          "output_type": "stream",
          "text": [
            "False\n"
          ],
          "name": "stdout"
        },
        {
          "output_type": "stream",
          "text": [
            "\n"
          ],
          "name": "stderr"
        }
      ]
    }
  ]
}