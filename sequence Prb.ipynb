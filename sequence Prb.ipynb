{
  "nbformat": 4,
  "nbformat_minor": 0,
  "metadata": {
    "colab": {
      "name": "FAI_Assignment 3_Final",
      "provenance": []
    },
    "kernelspec": {
      "name": "python3",
      "display_name": "Python 3"
    }
  },
  "cells": [
    {
      "cell_type": "code",
      "metadata": {
        "id": "4fxgbGoMBuDX"
      },
      "source": [
        ""
      ],
      "execution_count": null,
      "outputs": []
    },
    {
      "cell_type": "markdown",
      "metadata": {
        "id": "L-D04q3DC3Qf"
      },
      "source": [
        "Consider the example 2 from Q1:\n",
        "You start with the sequence ABABAECCEC, or in general any sequence made from A,B, C, and E. You can transform this sequence using the following equalities: AC = E,AB = BC, BB = E, CC = E, and E x = x for any x . For example, ABBC can be transformed into AEC, and then AC, and then E. Your goal is to produce the sequence E.\n",
        "Define an admissible heuristic for the problem and write an A* algorithm to solve the problem."
      ]
    },
    {
      "cell_type": "code",
      "metadata": {
        "id": "ym9z7Y7u9TwF"
      },
      "source": [
        "import re \n",
        "from itertools import combinations"
      ],
      "execution_count": 2,
      "outputs": []
    },
    {
      "cell_type": "code",
      "metadata": {
        "id": "4lQaMRhSsyyi"
      },
      "source": [
        "import heapq\n",
        "from itertools import combinations\n",
        "\n",
        "\n",
        "def heuristic(str1, str2):\n",
        "    \"\"\"\n",
        "    :param str1:\n",
        "    :param str2:\n",
        "    :return: difference in length of two strings\n",
        "    \"\"\"\n",
        "    return abs(len(str1) - len(str2))\n",
        "    # equalities_set = set(equality_dict.keys())\n",
        "    # return len(neighbor) - sum([word in neighbor for word in equalities_set])\n",
        "    # return len(neighbor) - [n for n in neighbor].count('E')\n",
        "\n",
        "\n",
        "def get_path(predecessors, start, goal):\n",
        "    result = [goal]\n",
        "    current = goal\n",
        "    while result[-1] != start:\n",
        "        result.append(predecessors[result[-1]])\n",
        "    return result\n",
        "\n",
        "\n",
        "def get_neighbors(current_cell, equality_dict):\n",
        "    dna_string = current_cell[1]\n",
        "    equalities_set = set(equality_dict.keys())\n",
        "    word_pair_set = set([\"\".join(comb) for comb in combinations(dna_string, 2) if \"\".join(comb) in dna_string])\n",
        "    possible_steps = equalities_set.intersection(word_pair_set)\n",
        "    return [dna_string.replace(word, equality_dict[word]) for word in possible_steps]\n",
        "\n",
        "\n",
        "def a_star(start, goal):\n",
        "    equality_dict = {'AC': 'E', 'AB': 'BC', 'BB': 'E', 'CC': 'E', 'EA': 'A', 'EB': 'B', 'EC': 'C', 'EE': 'E','BC':'AB'}\n",
        "    pq = []\n",
        "    heapq.heappush(pq, (0,start))\n",
        "    predecessors = {start: None}\n",
        "    # Distance from start to current cell\n",
        "    g_value = {start: 0}\n",
        "\n",
        "    while pq:\n",
        "        current_cell = heapq.heappop(pq)\n",
        "        if current_cell[1] == goal:\n",
        "            return get_path(predecessors, start, goal)\n",
        "        neighbors = get_neighbors(current_cell, equality_dict)\n",
        "        for neighbor in neighbors:\n",
        "            if neighbor not in g_value:\n",
        "                new_cost = g_value[current_cell[1]] + 1\n",
        "                g_value[neighbor] = new_cost\n",
        "                f_value = new_cost + heuristic(goal, neighbor)\n",
        "                heapq.heappush(pq, (f_value,neighbor))\n",
        "                predecessors[neighbor] = current_cell[1]\n",
        "    return None\n",
        "  "
      ],
      "execution_count": 3,
      "outputs": []
    },
    {
      "cell_type": "code",
      "metadata": {
        "id": "lCE4KZhw7zgF",
        "outputId": "0fb00dbe-f76c-4dfb-d5a6-1585dfb89279",
        "colab": {
          "base_uri": "https://localhost:8080/"
        }
      },
      "source": [
        "  print(a_star(\"ABABAECCEC\",\"E\"))"
      ],
      "execution_count": 4,
      "outputs": [
        {
          "output_type": "stream",
          "text": [
            "['E', 'AC', 'AEC', 'ABBC', 'ABBEC', 'BCBEC', 'BCBCCC', 'ABABCC', 'ABABECC', 'ABABACCC', 'ABABAECCEC']\n"
          ],
          "name": "stdout"
        }
      ]
    },
    {
      "cell_type": "code",
      "metadata": {
        "id": "pn3m8n2KBwlR"
      },
      "source": [
        ""
      ],
      "execution_count": null,
      "outputs": []
    }
  ]
}